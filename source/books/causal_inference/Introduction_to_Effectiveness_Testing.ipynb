{
 "cells": [
  {
   "cell_type": "markdown",
   "metadata": {},
   "source": [
    "# 効果検証入門\n",
    "## 参考書籍\n",
    "[効果検証入門〜正しい比較のための因果推論／計量経済学の基礎](https://www.amazon.co.jp/dp/B0834JN23Y/)"
   ]
  },
  {
   "cell_type": "markdown",
   "metadata": {},
   "source": [
    "# Rによるメールマーケティングの効果の検証"
   ]
  },
  {
   "cell_type": "markdown",
   "metadata": {},
   "source": [
    "## RCTされているデータの場合"
   ]
  },
  {
   "cell_type": "code",
   "execution_count": 1,
   "metadata": {},
   "outputs": [
    {
     "name": "stdout",
     "output_type": "stream",
     "text": [
      "\n",
      "The downloaded binary packages are in\n",
      "\t/var/folders/rr/fb4bmjkj789czq2w91y81l480000gn/T//RtmpQwXspb/downloaded_packages\n"
     ]
    }
   ],
   "source": [
    "# パッケージのインストール\n",
    "install.packages(\"tidyverse\")"
   ]
  },
  {
   "cell_type": "code",
   "execution_count": 2,
   "metadata": {},
   "outputs": [
    {
     "name": "stderr",
     "output_type": "stream",
     "text": [
      "─ \u001b[1mAttaching packages\u001b[22m ──────────────────── tidyverse 1.3.1 ─\n",
      "\n",
      "\u001b[32m✔\u001b[39m \u001b[34mggplot2\u001b[39m 3.3.3     \u001b[32m✔\u001b[39m \u001b[34mpurrr  \u001b[39m 0.3.4\n",
      "\u001b[32m✔\u001b[39m \u001b[34mtibble \u001b[39m 3.1.0     \u001b[32m✔\u001b[39m \u001b[34mdplyr  \u001b[39m 1.0.5\n",
      "\u001b[32m✔\u001b[39m \u001b[34mtidyr  \u001b[39m 1.1.3     \u001b[32m✔\u001b[39m \u001b[34mstringr\u001b[39m 1.4.0\n",
      "\u001b[32m✔\u001b[39m \u001b[34mreadr  \u001b[39m 1.4.0     \u001b[32m✔\u001b[39m \u001b[34mforcats\u001b[39m 0.5.1\n",
      "\n",
      "─ \u001b[1mConflicts\u001b[22m ───────────────────── tidyverse_conflicts() ─\n",
      "\u001b[31m✖\u001b[39m \u001b[34mdplyr\u001b[39m::\u001b[32mfilter()\u001b[39m masks \u001b[34mstats\u001b[39m::filter()\n",
      "\u001b[31m✖\u001b[39m \u001b[34mdplyr\u001b[39m::\u001b[32mlag()\u001b[39m    masks \u001b[34mstats\u001b[39m::lag()\n",
      "\n"
     ]
    }
   ],
   "source": [
    "library(\"tidyverse\")"
   ]
  },
  {
   "cell_type": "code",
   "execution_count": 3,
   "metadata": {},
   "outputs": [
    {
     "name": "stderr",
     "output_type": "stream",
     "text": [
      "\n",
      "\u001b[36m─\u001b[39m \u001b[1m\u001b[1mColumn specification\u001b[1m\u001b[22m \u001b[36m────────────────────────────\u001b[39m\n",
      "cols(\n",
      "  recency = \u001b[32mcol_double()\u001b[39m,\n",
      "  history_segment = \u001b[31mcol_character()\u001b[39m,\n",
      "  history = \u001b[32mcol_double()\u001b[39m,\n",
      "  mens = \u001b[32mcol_double()\u001b[39m,\n",
      "  womens = \u001b[32mcol_double()\u001b[39m,\n",
      "  zip_code = \u001b[31mcol_character()\u001b[39m,\n",
      "  newbie = \u001b[32mcol_double()\u001b[39m,\n",
      "  channel = \u001b[31mcol_character()\u001b[39m,\n",
      "  segment = \u001b[31mcol_character()\u001b[39m,\n",
      "  visit = \u001b[32mcol_double()\u001b[39m,\n",
      "  conversion = \u001b[32mcol_double()\u001b[39m,\n",
      "  spend = \u001b[32mcol_double()\u001b[39m\n",
      ")\n",
      "\n",
      "\n"
     ]
    }
   ],
   "source": [
    "email_data <- read_csv(\"http://www.minethatdata.com/Kevin_Hillstrom_MineThatData_E-MailAnalytics_DataMiningChallenge_2008.03.20.csv\")"
   ]
  },
  {
   "cell_type": "code",
   "execution_count": 4,
   "metadata": {},
   "outputs": [],
   "source": [
    "male_df <- email_data %>% filter(segment != \"Womens E-Mail\") %>%\n",
    "mutate(treatment = if_else(segment == \"Mens E-Mail\", 1, 0))"
   ]
  },
  {
   "cell_type": "code",
   "execution_count": 5,
   "metadata": {},
   "outputs": [
    {
     "data": {
      "text/html": [
       "<table class=\"dataframe\">\n",
       "<caption>A tibble: 5 × 13</caption>\n",
       "<thead>\n",
       "\t<tr><th scope=col>recency</th><th scope=col>history_segment</th><th scope=col>history</th><th scope=col>mens</th><th scope=col>womens</th><th scope=col>zip_code</th><th scope=col>newbie</th><th scope=col>channel</th><th scope=col>segment</th><th scope=col>visit</th><th scope=col>conversion</th><th scope=col>spend</th><th scope=col>treatment</th></tr>\n",
       "\t<tr><th scope=col>&lt;dbl&gt;</th><th scope=col>&lt;chr&gt;</th><th scope=col>&lt;dbl&gt;</th><th scope=col>&lt;dbl&gt;</th><th scope=col>&lt;dbl&gt;</th><th scope=col>&lt;chr&gt;</th><th scope=col>&lt;dbl&gt;</th><th scope=col>&lt;chr&gt;</th><th scope=col>&lt;chr&gt;</th><th scope=col>&lt;dbl&gt;</th><th scope=col>&lt;dbl&gt;</th><th scope=col>&lt;dbl&gt;</th><th scope=col>&lt;dbl&gt;</th></tr>\n",
       "</thead>\n",
       "<tbody>\n",
       "\t<tr><td>6</td><td>3) $200 - $350</td><td>329.08</td><td>1</td><td>1</td><td>Rural</td><td>1</td><td>Web         </td><td>No E-Mail  </td><td>0</td><td>0</td><td>0</td><td>0</td></tr>\n",
       "\t<tr><td>9</td><td>5) $500 - $750</td><td>675.83</td><td>1</td><td>0</td><td>Rural</td><td>1</td><td>Web         </td><td>Mens E-Mail</td><td>0</td><td>0</td><td>0</td><td>1</td></tr>\n",
       "\t<tr><td>9</td><td>5) $500 - $750</td><td>675.07</td><td>1</td><td>1</td><td>Rural</td><td>1</td><td>Phone       </td><td>Mens E-Mail</td><td>0</td><td>0</td><td>0</td><td>1</td></tr>\n",
       "\t<tr><td>2</td><td>2) $100 - $200</td><td>101.64</td><td>0</td><td>1</td><td>Urban</td><td>0</td><td>Web         </td><td>Mens E-Mail</td><td>1</td><td>0</td><td>0</td><td>1</td></tr>\n",
       "\t<tr><td>4</td><td>3) $200 - $350</td><td>241.42</td><td>0</td><td>1</td><td>Rural</td><td>1</td><td>Multichannel</td><td>No E-Mail  </td><td>0</td><td>0</td><td>0</td><td>0</td></tr>\n",
       "</tbody>\n",
       "</table>\n"
      ],
      "text/latex": [
       "A tibble: 5 × 13\n",
       "\\begin{tabular}{lllllllllllll}\n",
       " recency & history\\_segment & history & mens & womens & zip\\_code & newbie & channel & segment & visit & conversion & spend & treatment\\\\\n",
       " <dbl> & <chr> & <dbl> & <dbl> & <dbl> & <chr> & <dbl> & <chr> & <chr> & <dbl> & <dbl> & <dbl> & <dbl>\\\\\n",
       "\\hline\n",
       "\t 6 & 3) \\$200 - \\$350 & 329.08 & 1 & 1 & Rural & 1 & Web          & No E-Mail   & 0 & 0 & 0 & 0\\\\\n",
       "\t 9 & 5) \\$500 - \\$750 & 675.83 & 1 & 0 & Rural & 1 & Web          & Mens E-Mail & 0 & 0 & 0 & 1\\\\\n",
       "\t 9 & 5) \\$500 - \\$750 & 675.07 & 1 & 1 & Rural & 1 & Phone        & Mens E-Mail & 0 & 0 & 0 & 1\\\\\n",
       "\t 2 & 2) \\$100 - \\$200 & 101.64 & 0 & 1 & Urban & 0 & Web          & Mens E-Mail & 1 & 0 & 0 & 1\\\\\n",
       "\t 4 & 3) \\$200 - \\$350 & 241.42 & 0 & 1 & Rural & 1 & Multichannel & No E-Mail   & 0 & 0 & 0 & 0\\\\\n",
       "\\end{tabular}\n"
      ],
      "text/markdown": [
       "\n",
       "A tibble: 5 × 13\n",
       "\n",
       "| recency &lt;dbl&gt; | history_segment &lt;chr&gt; | history &lt;dbl&gt; | mens &lt;dbl&gt; | womens &lt;dbl&gt; | zip_code &lt;chr&gt; | newbie &lt;dbl&gt; | channel &lt;chr&gt; | segment &lt;chr&gt; | visit &lt;dbl&gt; | conversion &lt;dbl&gt; | spend &lt;dbl&gt; | treatment &lt;dbl&gt; |\n",
       "|---|---|---|---|---|---|---|---|---|---|---|---|---|\n",
       "| 6 | 3) $200 - $350 | 329.08 | 1 | 1 | Rural | 1 | Web          | No E-Mail   | 0 | 0 | 0 | 0 |\n",
       "| 9 | 5) $500 - $750 | 675.83 | 1 | 0 | Rural | 1 | Web          | Mens E-Mail | 0 | 0 | 0 | 1 |\n",
       "| 9 | 5) $500 - $750 | 675.07 | 1 | 1 | Rural | 1 | Phone        | Mens E-Mail | 0 | 0 | 0 | 1 |\n",
       "| 2 | 2) $100 - $200 | 101.64 | 0 | 1 | Urban | 0 | Web          | Mens E-Mail | 1 | 0 | 0 | 1 |\n",
       "| 4 | 3) $200 - $350 | 241.42 | 0 | 1 | Rural | 1 | Multichannel | No E-Mail   | 0 | 0 | 0 | 0 |\n",
       "\n"
      ],
      "text/plain": [
       "  recency history_segment history mens womens zip_code newbie channel     \n",
       "1 6       3) $200 - $350  329.08  1    1      Rural    1      Web         \n",
       "2 9       5) $500 - $750  675.83  1    0      Rural    1      Web         \n",
       "3 9       5) $500 - $750  675.07  1    1      Rural    1      Phone       \n",
       "4 2       2) $100 - $200  101.64  0    1      Urban    0      Web         \n",
       "5 4       3) $200 - $350  241.42  0    1      Rural    1      Multichannel\n",
       "  segment     visit conversion spend treatment\n",
       "1 No E-Mail   0     0          0     0        \n",
       "2 Mens E-Mail 0     0          0     1        \n",
       "3 Mens E-Mail 0     0          0     1        \n",
       "4 Mens E-Mail 1     0          0     1        \n",
       "5 No E-Mail   0     0          0     0        "
      ]
     },
     "metadata": {},
     "output_type": "display_data"
    }
   ],
   "source": [
    "male_df %>% head(5)"
   ]
  },
  {
   "cell_type": "code",
   "execution_count": 6,
   "metadata": {},
   "outputs": [],
   "source": [
    "summary_by_segment <- male_df %>%\n",
    "group_by(treatment) %>%\n",
    "summarise(\n",
    "    conversion_rate = mean(conversion),\n",
    "    spend_mean = mean(spend),\n",
    "    count = n()\n",
    "         )"
   ]
  },
  {
   "cell_type": "code",
   "execution_count": 7,
   "metadata": {},
   "outputs": [
    {
     "data": {
      "text/html": [
       "<table class=\"dataframe\">\n",
       "<caption>A tibble: 2 × 4</caption>\n",
       "<thead>\n",
       "\t<tr><th scope=col>treatment</th><th scope=col>conversion_rate</th><th scope=col>spend_mean</th><th scope=col>count</th></tr>\n",
       "\t<tr><th scope=col>&lt;dbl&gt;</th><th scope=col>&lt;dbl&gt;</th><th scope=col>&lt;dbl&gt;</th><th scope=col>&lt;int&gt;</th></tr>\n",
       "</thead>\n",
       "<tbody>\n",
       "\t<tr><td>0</td><td>0.005726087</td><td>0.6527894</td><td>21306</td></tr>\n",
       "\t<tr><td>1</td><td>0.012531093</td><td>1.4226165</td><td>21307</td></tr>\n",
       "</tbody>\n",
       "</table>\n"
      ],
      "text/latex": [
       "A tibble: 2 × 4\n",
       "\\begin{tabular}{llll}\n",
       " treatment & conversion\\_rate & spend\\_mean & count\\\\\n",
       " <dbl> & <dbl> & <dbl> & <int>\\\\\n",
       "\\hline\n",
       "\t 0 & 0.005726087 & 0.6527894 & 21306\\\\\n",
       "\t 1 & 0.012531093 & 1.4226165 & 21307\\\\\n",
       "\\end{tabular}\n"
      ],
      "text/markdown": [
       "\n",
       "A tibble: 2 × 4\n",
       "\n",
       "| treatment &lt;dbl&gt; | conversion_rate &lt;dbl&gt; | spend_mean &lt;dbl&gt; | count &lt;int&gt; |\n",
       "|---|---|---|---|\n",
       "| 0 | 0.005726087 | 0.6527894 | 21306 |\n",
       "| 1 | 0.012531093 | 1.4226165 | 21307 |\n",
       "\n"
      ],
      "text/plain": [
       "  treatment conversion_rate spend_mean count\n",
       "1 0         0.005726087     0.6527894  21306\n",
       "2 1         0.012531093     1.4226165  21307"
      ]
     },
     "metadata": {},
     "output_type": "display_data"
    }
   ],
   "source": [
    "summary_by_segment"
   ]
  },
  {
   "cell_type": "code",
   "execution_count": 8,
   "metadata": {},
   "outputs": [],
   "source": [
    "mens_mail <- male_df %>%\n",
    "    filter(treatment == 1) %>%\n",
    "    pull(spend)\n",
    "\n",
    "no_mail <- male_df %>%\n",
    "    filter(treatment == 0) %>%\n",
    "    pull(spend)"
   ]
  },
  {
   "cell_type": "code",
   "execution_count": 9,
   "metadata": {},
   "outputs": [],
   "source": [
    "# 平均の差を検定\n",
    "rct_ttest <- t.test(mens_mail, no_mail, var.equal = TRUE)"
   ]
  },
  {
   "cell_type": "code",
   "execution_count": 10,
   "metadata": {},
   "outputs": [
    {
     "data": {
      "text/plain": [
       "\n",
       "\tTwo Sample t-test\n",
       "\n",
       "data:  mens_mail and no_mail\n",
       "t = 5.3001, df = 42611, p-value = 1.163e-07\n",
       "alternative hypothesis: true difference in means is not equal to 0\n",
       "95 percent confidence interval:\n",
       " 0.4851384 1.0545160\n",
       "sample estimates:\n",
       "mean of x mean of y \n",
       "1.4226165 0.6527894 \n"
      ]
     },
     "metadata": {},
     "output_type": "display_data"
    }
   ],
   "source": [
    "rct_ttest"
   ]
  },
  {
   "cell_type": "markdown",
   "metadata": {},
   "source": [
    "しっかりとRCTされている場合はP値も小さいので統計的に有意な差があると言える。"
   ]
  },
  {
   "cell_type": "markdown",
   "metadata": {},
   "source": [
    "## バイアスのあるデータの効果検証"
   ]
  },
  {
   "cell_type": "code",
   "execution_count": 11,
   "metadata": {},
   "outputs": [],
   "source": [
    "set.seed(1)"
   ]
  },
  {
   "cell_type": "code",
   "execution_count": 12,
   "metadata": {},
   "outputs": [],
   "source": [
    "obs_rate_c <- 0.5\n",
    "obs_rate_t <- 0.5\n",
    "biased_data <- male_df %>% \n",
    "    mutate(\n",
    "        obs_rate_c = if_else(\n",
    "            (history > 300) | (recency < 6) | (channel == \"Multichannel\"),\n",
    "            obs_rate_c, 1\n",
    "        ),\n",
    "        obs_rate_t = if_else(\n",
    "            (history > 300) | (recency < 6) | (channel == \"Multichannel\"),\n",
    "            1, obs_rate_t\n",
    "        ),\n",
    "        random_number = runif(n = NROW(male_df))\n",
    "    ) %>%\n",
    "    filter(\n",
    "        (treatment == 0 & random_number < obs_rate_c) | (treatment == 1 & random_number < obs_rate_t)\n",
    "          )"
   ]
  },
  {
   "cell_type": "code",
   "execution_count": 13,
   "metadata": {},
   "outputs": [
    {
     "data": {
      "text/html": [
       "<table class=\"dataframe\">\n",
       "<caption>A tibble: 5 × 16</caption>\n",
       "<thead>\n",
       "\t<tr><th scope=col>recency</th><th scope=col>history_segment</th><th scope=col>history</th><th scope=col>mens</th><th scope=col>womens</th><th scope=col>zip_code</th><th scope=col>newbie</th><th scope=col>channel</th><th scope=col>segment</th><th scope=col>visit</th><th scope=col>conversion</th><th scope=col>spend</th><th scope=col>treatment</th><th scope=col>obs_rate_c</th><th scope=col>obs_rate_t</th><th scope=col>random_number</th></tr>\n",
       "\t<tr><th scope=col>&lt;dbl&gt;</th><th scope=col>&lt;chr&gt;</th><th scope=col>&lt;dbl&gt;</th><th scope=col>&lt;dbl&gt;</th><th scope=col>&lt;dbl&gt;</th><th scope=col>&lt;chr&gt;</th><th scope=col>&lt;dbl&gt;</th><th scope=col>&lt;chr&gt;</th><th scope=col>&lt;chr&gt;</th><th scope=col>&lt;dbl&gt;</th><th scope=col>&lt;dbl&gt;</th><th scope=col>&lt;dbl&gt;</th><th scope=col>&lt;dbl&gt;</th><th scope=col>&lt;dbl&gt;</th><th scope=col>&lt;dbl&gt;</th><th scope=col>&lt;dbl&gt;</th></tr>\n",
       "</thead>\n",
       "<tbody>\n",
       "\t<tr><td>6</td><td>3) $200 - $350</td><td>329.08</td><td>1</td><td>1</td><td>Rural</td><td>1</td><td>Web         </td><td>No E-Mail  </td><td>0</td><td>0</td><td>0</td><td>0</td><td>0.5</td><td>1</td><td>0.2655087</td></tr>\n",
       "\t<tr><td>9</td><td>5) $500 - $750</td><td>675.83</td><td>1</td><td>0</td><td>Rural</td><td>1</td><td>Web         </td><td>Mens E-Mail</td><td>0</td><td>0</td><td>0</td><td>1</td><td>0.5</td><td>1</td><td>0.3721239</td></tr>\n",
       "\t<tr><td>9</td><td>5) $500 - $750</td><td>675.07</td><td>1</td><td>1</td><td>Rural</td><td>1</td><td>Phone       </td><td>Mens E-Mail</td><td>0</td><td>0</td><td>0</td><td>1</td><td>0.5</td><td>1</td><td>0.5728534</td></tr>\n",
       "\t<tr><td>2</td><td>2) $100 - $200</td><td>101.64</td><td>0</td><td>1</td><td>Urban</td><td>0</td><td>Web         </td><td>Mens E-Mail</td><td>1</td><td>0</td><td>0</td><td>1</td><td>0.5</td><td>1</td><td>0.9082078</td></tr>\n",
       "\t<tr><td>4</td><td>3) $200 - $350</td><td>241.42</td><td>0</td><td>1</td><td>Rural</td><td>1</td><td>Multichannel</td><td>No E-Mail  </td><td>0</td><td>0</td><td>0</td><td>0</td><td>0.5</td><td>1</td><td>0.2016819</td></tr>\n",
       "</tbody>\n",
       "</table>\n"
      ],
      "text/latex": [
       "A tibble: 5 × 16\n",
       "\\begin{tabular}{llllllllllllllll}\n",
       " recency & history\\_segment & history & mens & womens & zip\\_code & newbie & channel & segment & visit & conversion & spend & treatment & obs\\_rate\\_c & obs\\_rate\\_t & random\\_number\\\\\n",
       " <dbl> & <chr> & <dbl> & <dbl> & <dbl> & <chr> & <dbl> & <chr> & <chr> & <dbl> & <dbl> & <dbl> & <dbl> & <dbl> & <dbl> & <dbl>\\\\\n",
       "\\hline\n",
       "\t 6 & 3) \\$200 - \\$350 & 329.08 & 1 & 1 & Rural & 1 & Web          & No E-Mail   & 0 & 0 & 0 & 0 & 0.5 & 1 & 0.2655087\\\\\n",
       "\t 9 & 5) \\$500 - \\$750 & 675.83 & 1 & 0 & Rural & 1 & Web          & Mens E-Mail & 0 & 0 & 0 & 1 & 0.5 & 1 & 0.3721239\\\\\n",
       "\t 9 & 5) \\$500 - \\$750 & 675.07 & 1 & 1 & Rural & 1 & Phone        & Mens E-Mail & 0 & 0 & 0 & 1 & 0.5 & 1 & 0.5728534\\\\\n",
       "\t 2 & 2) \\$100 - \\$200 & 101.64 & 0 & 1 & Urban & 0 & Web          & Mens E-Mail & 1 & 0 & 0 & 1 & 0.5 & 1 & 0.9082078\\\\\n",
       "\t 4 & 3) \\$200 - \\$350 & 241.42 & 0 & 1 & Rural & 1 & Multichannel & No E-Mail   & 0 & 0 & 0 & 0 & 0.5 & 1 & 0.2016819\\\\\n",
       "\\end{tabular}\n"
      ],
      "text/markdown": [
       "\n",
       "A tibble: 5 × 16\n",
       "\n",
       "| recency &lt;dbl&gt; | history_segment &lt;chr&gt; | history &lt;dbl&gt; | mens &lt;dbl&gt; | womens &lt;dbl&gt; | zip_code &lt;chr&gt; | newbie &lt;dbl&gt; | channel &lt;chr&gt; | segment &lt;chr&gt; | visit &lt;dbl&gt; | conversion &lt;dbl&gt; | spend &lt;dbl&gt; | treatment &lt;dbl&gt; | obs_rate_c &lt;dbl&gt; | obs_rate_t &lt;dbl&gt; | random_number &lt;dbl&gt; |\n",
       "|---|---|---|---|---|---|---|---|---|---|---|---|---|---|---|---|\n",
       "| 6 | 3) $200 - $350 | 329.08 | 1 | 1 | Rural | 1 | Web          | No E-Mail   | 0 | 0 | 0 | 0 | 0.5 | 1 | 0.2655087 |\n",
       "| 9 | 5) $500 - $750 | 675.83 | 1 | 0 | Rural | 1 | Web          | Mens E-Mail | 0 | 0 | 0 | 1 | 0.5 | 1 | 0.3721239 |\n",
       "| 9 | 5) $500 - $750 | 675.07 | 1 | 1 | Rural | 1 | Phone        | Mens E-Mail | 0 | 0 | 0 | 1 | 0.5 | 1 | 0.5728534 |\n",
       "| 2 | 2) $100 - $200 | 101.64 | 0 | 1 | Urban | 0 | Web          | Mens E-Mail | 1 | 0 | 0 | 1 | 0.5 | 1 | 0.9082078 |\n",
       "| 4 | 3) $200 - $350 | 241.42 | 0 | 1 | Rural | 1 | Multichannel | No E-Mail   | 0 | 0 | 0 | 0 | 0.5 | 1 | 0.2016819 |\n",
       "\n"
      ],
      "text/plain": [
       "  recency history_segment history mens womens zip_code newbie channel     \n",
       "1 6       3) $200 - $350  329.08  1    1      Rural    1      Web         \n",
       "2 9       5) $500 - $750  675.83  1    0      Rural    1      Web         \n",
       "3 9       5) $500 - $750  675.07  1    1      Rural    1      Phone       \n",
       "4 2       2) $100 - $200  101.64  0    1      Urban    0      Web         \n",
       "5 4       3) $200 - $350  241.42  0    1      Rural    1      Multichannel\n",
       "  segment     visit conversion spend treatment obs_rate_c obs_rate_t\n",
       "1 No E-Mail   0     0          0     0         0.5        1         \n",
       "2 Mens E-Mail 0     0          0     1         0.5        1         \n",
       "3 Mens E-Mail 0     0          0     1         0.5        1         \n",
       "4 Mens E-Mail 1     0          0     1         0.5        1         \n",
       "5 No E-Mail   0     0          0     0         0.5        1         \n",
       "  random_number\n",
       "1 0.2655087    \n",
       "2 0.3721239    \n",
       "3 0.5728534    \n",
       "4 0.9082078    \n",
       "5 0.2016819    "
      ]
     },
     "metadata": {},
     "output_type": "display_data"
    }
   ],
   "source": [
    "biased_data %>% head(5)"
   ]
  },
  {
   "cell_type": "code",
   "execution_count": 14,
   "metadata": {},
   "outputs": [
    {
     "data": {
      "text/html": [
       "<table class=\"dataframe\">\n",
       "<caption>A tibble: 2 × 4</caption>\n",
       "<thead>\n",
       "\t<tr><th scope=col>treatment</th><th scope=col>conversion_rate</th><th scope=col>spend_mean</th><th scope=col>count</th></tr>\n",
       "\t<tr><th scope=col>&lt;dbl&gt;</th><th scope=col>&lt;dbl&gt;</th><th scope=col>&lt;dbl&gt;</th><th scope=col>&lt;int&gt;</th></tr>\n",
       "</thead>\n",
       "<tbody>\n",
       "\t<tr><td>0</td><td>0.004977838</td><td>0.5483062</td><td>14665</td></tr>\n",
       "\t<tr><td>1</td><td>0.013431794</td><td>1.5277526</td><td>17198</td></tr>\n",
       "</tbody>\n",
       "</table>\n"
      ],
      "text/latex": [
       "A tibble: 2 × 4\n",
       "\\begin{tabular}{llll}\n",
       " treatment & conversion\\_rate & spend\\_mean & count\\\\\n",
       " <dbl> & <dbl> & <dbl> & <int>\\\\\n",
       "\\hline\n",
       "\t 0 & 0.004977838 & 0.5483062 & 14665\\\\\n",
       "\t 1 & 0.013431794 & 1.5277526 & 17198\\\\\n",
       "\\end{tabular}\n"
      ],
      "text/markdown": [
       "\n",
       "A tibble: 2 × 4\n",
       "\n",
       "| treatment &lt;dbl&gt; | conversion_rate &lt;dbl&gt; | spend_mean &lt;dbl&gt; | count &lt;int&gt; |\n",
       "|---|---|---|---|\n",
       "| 0 | 0.004977838 | 0.5483062 | 14665 |\n",
       "| 1 | 0.013431794 | 1.5277526 | 17198 |\n",
       "\n"
      ],
      "text/plain": [
       "  treatment conversion_rate spend_mean count\n",
       "1 0         0.004977838     0.5483062  14665\n",
       "2 1         0.013431794     1.5277526  17198"
      ]
     },
     "metadata": {},
     "output_type": "display_data"
    }
   ],
   "source": [
    "summary_by_segment_biased <- biased_data %>%\n",
    "    group_by(treatment) %>% \n",
    "    summarise(conversion_rate = mean(conversion),\n",
    "              spend_mean = mean(spend),\n",
    "              count = n()\n",
    "             )\n",
    "summary_by_segment_biased"
   ]
  },
  {
   "cell_type": "code",
   "execution_count": 15,
   "metadata": {},
   "outputs": [
    {
     "data": {
      "text/plain": [
       "\n",
       "\tTwo Sample t-test\n",
       "\n",
       "data:  mens_mail_biased and no_mail_biased\n",
       "t = 5.6708, df = 31861, p-value = 1.433e-08\n",
       "alternative hypothesis: true difference in means is not equal to 0\n",
       "95 percent confidence interval:\n",
       " 0.6409145 1.3179784\n",
       "sample estimates:\n",
       "mean of x mean of y \n",
       "1.5277526 0.5483062 \n"
      ]
     },
     "metadata": {},
     "output_type": "display_data"
    }
   ],
   "source": [
    "mens_mail_biased <- biased_data %>%\n",
    "    filter(treatment == 1) %>%\n",
    "    pull(spend)\n",
    "\n",
    "no_mail_biased <- biased_data %>%\n",
    "    filter(treatment == 0) %>%\n",
    "    pull(spend)\n",
    "\n",
    "rct_ttest_biased <- t.test(mens_mail_biased, no_mail_biased, var.equal = T)\n",
    "rct_ttest_biased"
   ]
  },
  {
   "cell_type": "markdown",
   "metadata": {},
   "source": [
    "## 回帰分析の導入\n",
    "$$\n",
    "Spend_i = \\beta_0 + \\beta_{treatment}treatment_{i} + \\beta_{history}history_{i}\n",
    "$$"
   ]
  },
  {
   "cell_type": "code",
   "execution_count": 16,
   "metadata": {},
   "outputs": [],
   "source": [
    "biased_reg <- lm(data = biased_data, formula = spend ~ treatment + history)"
   ]
  },
  {
   "cell_type": "code",
   "execution_count": 17,
   "metadata": {},
   "outputs": [
    {
     "data": {
      "text/plain": [
       "\n",
       "Call:\n",
       "lm(formula = spend ~ treatment + history, data = biased_data)\n",
       "\n",
       "Residuals:\n",
       "   Min     1Q Median     3Q    Max \n",
       " -4.74  -1.46  -1.26  -0.48 497.74 \n",
       "\n",
       "Coefficients:\n",
       "             Estimate Std. Error t value Pr(>|t|)    \n",
       "(Intercept) 0.3241996  0.1444390   2.245  0.02480 *  \n",
       "treatment   0.9026109  0.1743057   5.178 2.25e-07 ***\n",
       "history     0.0010927  0.0003366   3.246  0.00117 ** \n",
       "---\n",
       "Signif. codes:  0 ‘***’ 0.001 ‘**’ 0.01 ‘*’ 0.05 ‘.’ 0.1 ‘ ’ 1\n",
       "\n",
       "Residual standard error: 15.36 on 31860 degrees of freedom\n",
       "Multiple R-squared:  0.001339,\tAdjusted R-squared:  0.001276 \n",
       "F-statistic: 21.35 on 2 and 31860 DF,  p-value: 5.406e-10\n"
      ]
     },
     "metadata": {},
     "output_type": "display_data"
    }
   ],
   "source": [
    "summary(biased_reg)"
   ]
  },
  {
   "cell_type": "code",
   "execution_count": 18,
   "metadata": {},
   "outputs": [],
   "source": [
    "# Coefficients以外の情報を気にしないためtidyを利用する\n",
    "library(\"broom\")"
   ]
  },
  {
   "cell_type": "code",
   "execution_count": 19,
   "metadata": {},
   "outputs": [],
   "source": [
    "biased_reg_coef <- tidy(biased_reg)"
   ]
  },
  {
   "cell_type": "code",
   "execution_count": 20,
   "metadata": {},
   "outputs": [
    {
     "data": {
      "text/html": [
       "<table class=\"dataframe\">\n",
       "<caption>A tibble: 3 × 5</caption>\n",
       "<thead>\n",
       "\t<tr><th scope=col>term</th><th scope=col>estimate</th><th scope=col>std.error</th><th scope=col>statistic</th><th scope=col>p.value</th></tr>\n",
       "\t<tr><th scope=col>&lt;chr&gt;</th><th scope=col>&lt;dbl&gt;</th><th scope=col>&lt;dbl&gt;</th><th scope=col>&lt;dbl&gt;</th><th scope=col>&lt;dbl&gt;</th></tr>\n",
       "</thead>\n",
       "<tbody>\n",
       "\t<tr><td>(Intercept)</td><td>0.324199564</td><td>0.144438990</td><td>2.244543</td><td>2.480430e-02</td></tr>\n",
       "\t<tr><td>treatment  </td><td>0.902610917</td><td>0.174305713</td><td>5.178321</td><td>2.252514e-07</td></tr>\n",
       "\t<tr><td>history    </td><td>0.001092682</td><td>0.000336606</td><td>3.246176</td><td>1.170872e-03</td></tr>\n",
       "</tbody>\n",
       "</table>\n"
      ],
      "text/latex": [
       "A tibble: 3 × 5\n",
       "\\begin{tabular}{lllll}\n",
       " term & estimate & std.error & statistic & p.value\\\\\n",
       " <chr> & <dbl> & <dbl> & <dbl> & <dbl>\\\\\n",
       "\\hline\n",
       "\t (Intercept) & 0.324199564 & 0.144438990 & 2.244543 & 2.480430e-02\\\\\n",
       "\t treatment   & 0.902610917 & 0.174305713 & 5.178321 & 2.252514e-07\\\\\n",
       "\t history     & 0.001092682 & 0.000336606 & 3.246176 & 1.170872e-03\\\\\n",
       "\\end{tabular}\n"
      ],
      "text/markdown": [
       "\n",
       "A tibble: 3 × 5\n",
       "\n",
       "| term &lt;chr&gt; | estimate &lt;dbl&gt; | std.error &lt;dbl&gt; | statistic &lt;dbl&gt; | p.value &lt;dbl&gt; |\n",
       "|---|---|---|---|---|\n",
       "| (Intercept) | 0.324199564 | 0.144438990 | 2.244543 | 2.480430e-02 |\n",
       "| treatment   | 0.902610917 | 0.174305713 | 5.178321 | 2.252514e-07 |\n",
       "| history     | 0.001092682 | 0.000336606 | 3.246176 | 1.170872e-03 |\n",
       "\n"
      ],
      "text/plain": [
       "  term        estimate    std.error   statistic p.value     \n",
       "1 (Intercept) 0.324199564 0.144438990 2.244543  2.480430e-02\n",
       "2 treatment   0.902610917 0.174305713 5.178321  2.252514e-07\n",
       "3 history     0.001092682 0.000336606 3.246176  1.170872e-03"
      ]
     },
     "metadata": {},
     "output_type": "display_data"
    }
   ],
   "source": [
    "biased_reg_coef"
   ]
  },
  {
   "cell_type": "markdown",
   "metadata": {},
   "source": [
    "効果検証のための回帰分析は$\\beta_{treatment}$以外の推定結果には興味はないため、介入効果を示すパラメータ以外は無視することになる。"
   ]
  },
  {
   "cell_type": "markdown",
   "metadata": {},
   "source": [
    "## 回帰分析におけるバイアス"
   ]
  },
  {
   "cell_type": "code",
   "execution_count": 21,
   "metadata": {},
   "outputs": [],
   "source": [
    "# RCTデータでの単回帰\n",
    "rct_reg <- lm(data = male_df, formula = spend ~ treatment)\n",
    "rct_reg_coef <- summary(rct_reg) %>% tidy()\n",
    "\n",
    "# バイアスのあるデータでの単回帰\n",
    "nonrct_reg <- lm(data = biased_data, formula = spend ~ treatment)\n",
    "nonrct_reg_coef <- summary(nonrct_reg) %>% tidy()"
   ]
  },
  {
   "cell_type": "code",
   "execution_count": 22,
   "metadata": {},
   "outputs": [
    {
     "data": {
      "text/html": [
       "<table class=\"dataframe\">\n",
       "<caption>A tibble: 2 × 5</caption>\n",
       "<thead>\n",
       "\t<tr><th scope=col>term</th><th scope=col>estimate</th><th scope=col>std.error</th><th scope=col>statistic</th><th scope=col>p.value</th></tr>\n",
       "\t<tr><th scope=col>&lt;chr&gt;</th><th scope=col>&lt;dbl&gt;</th><th scope=col>&lt;dbl&gt;</th><th scope=col>&lt;dbl&gt;</th><th scope=col>&lt;dbl&gt;</th></tr>\n",
       "</thead>\n",
       "<tbody>\n",
       "\t<tr><td>(Intercept)</td><td>0.6527894</td><td>0.1027070</td><td>6.355841</td><td>2.093808e-10</td></tr>\n",
       "\t<tr><td>treatment  </td><td>0.7698272</td><td>0.1452479</td><td>5.300090</td><td>1.163201e-07</td></tr>\n",
       "</tbody>\n",
       "</table>\n"
      ],
      "text/latex": [
       "A tibble: 2 × 5\n",
       "\\begin{tabular}{lllll}\n",
       " term & estimate & std.error & statistic & p.value\\\\\n",
       " <chr> & <dbl> & <dbl> & <dbl> & <dbl>\\\\\n",
       "\\hline\n",
       "\t (Intercept) & 0.6527894 & 0.1027070 & 6.355841 & 2.093808e-10\\\\\n",
       "\t treatment   & 0.7698272 & 0.1452479 & 5.300090 & 1.163201e-07\\\\\n",
       "\\end{tabular}\n"
      ],
      "text/markdown": [
       "\n",
       "A tibble: 2 × 5\n",
       "\n",
       "| term &lt;chr&gt; | estimate &lt;dbl&gt; | std.error &lt;dbl&gt; | statistic &lt;dbl&gt; | p.value &lt;dbl&gt; |\n",
       "|---|---|---|---|---|\n",
       "| (Intercept) | 0.6527894 | 0.1027070 | 6.355841 | 2.093808e-10 |\n",
       "| treatment   | 0.7698272 | 0.1452479 | 5.300090 | 1.163201e-07 |\n",
       "\n"
      ],
      "text/plain": [
       "  term        estimate  std.error statistic p.value     \n",
       "1 (Intercept) 0.6527894 0.1027070 6.355841  2.093808e-10\n",
       "2 treatment   0.7698272 0.1452479 5.300090  1.163201e-07"
      ]
     },
     "metadata": {},
     "output_type": "display_data"
    }
   ],
   "source": [
    "rct_reg_coef"
   ]
  },
  {
   "cell_type": "code",
   "execution_count": 23,
   "metadata": {},
   "outputs": [
    {
     "data": {
      "text/html": [
       "<table class=\"dataframe\">\n",
       "<caption>A tibble: 2 × 5</caption>\n",
       "<thead>\n",
       "\t<tr><th scope=col>term</th><th scope=col>estimate</th><th scope=col>std.error</th><th scope=col>statistic</th><th scope=col>p.value</th></tr>\n",
       "\t<tr><th scope=col>&lt;chr&gt;</th><th scope=col>&lt;dbl&gt;</th><th scope=col>&lt;dbl&gt;</th><th scope=col>&lt;dbl&gt;</th><th scope=col>&lt;dbl&gt;</th></tr>\n",
       "</thead>\n",
       "<tbody>\n",
       "\t<tr><td>(Intercept)</td><td>0.5483062</td><td>0.126891</td><td>4.321081</td><td>1.557365e-05</td></tr>\n",
       "\t<tr><td>treatment  </td><td>0.9794465</td><td>0.172717</td><td>5.670817</td><td>1.433467e-08</td></tr>\n",
       "</tbody>\n",
       "</table>\n"
      ],
      "text/latex": [
       "A tibble: 2 × 5\n",
       "\\begin{tabular}{lllll}\n",
       " term & estimate & std.error & statistic & p.value\\\\\n",
       " <chr> & <dbl> & <dbl> & <dbl> & <dbl>\\\\\n",
       "\\hline\n",
       "\t (Intercept) & 0.5483062 & 0.126891 & 4.321081 & 1.557365e-05\\\\\n",
       "\t treatment   & 0.9794465 & 0.172717 & 5.670817 & 1.433467e-08\\\\\n",
       "\\end{tabular}\n"
      ],
      "text/markdown": [
       "\n",
       "A tibble: 2 × 5\n",
       "\n",
       "| term &lt;chr&gt; | estimate &lt;dbl&gt; | std.error &lt;dbl&gt; | statistic &lt;dbl&gt; | p.value &lt;dbl&gt; |\n",
       "|---|---|---|---|---|\n",
       "| (Intercept) | 0.5483062 | 0.126891 | 4.321081 | 1.557365e-05 |\n",
       "| treatment   | 0.9794465 | 0.172717 | 5.670817 | 1.433467e-08 |\n",
       "\n"
      ],
      "text/plain": [
       "  term        estimate  std.error statistic p.value     \n",
       "1 (Intercept) 0.5483062 0.126891  4.321081  1.557365e-05\n",
       "2 treatment   0.9794465 0.172717  5.670817  1.433467e-08"
      ]
     },
     "metadata": {},
     "output_type": "display_data"
    }
   ],
   "source": [
    "nonrct_reg_coef"
   ]
  },
  {
   "cell_type": "markdown",
   "metadata": {},
   "source": [
    "共変量がない場合、バイアスが加味されており高く評価されてしまった。\n",
    "次に共変量Xをモデルに加えてみる。以下の式にしてみるとどうなるか。\n",
    "$$\n",
    "Spend_i = \\beta_0 + \\beta_{treatment}treatment_i + \\beta_{recency}recency_i + \\beta_{channel}channel_i + \\beta_{history}history_i + u_i\n",
    "$$"
   ]
  },
  {
   "cell_type": "code",
   "execution_count": 24,
   "metadata": {},
   "outputs": [
    {
     "data": {
      "text/html": [
       "<table class=\"dataframe\">\n",
       "<caption>A tibble: 6 × 5</caption>\n",
       "<thead>\n",
       "\t<tr><th scope=col>term</th><th scope=col>estimate</th><th scope=col>std.error</th><th scope=col>statistic</th><th scope=col>p.value</th></tr>\n",
       "\t<tr><th scope=col>&lt;chr&gt;</th><th scope=col>&lt;dbl&gt;</th><th scope=col>&lt;dbl&gt;</th><th scope=col>&lt;dbl&gt;</th><th scope=col>&lt;dbl&gt;</th></tr>\n",
       "</thead>\n",
       "<tbody>\n",
       "\t<tr><td>(Intercept) </td><td> 0.502412896</td><td>0.3793847254</td><td> 1.32428341</td><td>1.854184e-01</td></tr>\n",
       "\t<tr><td>treatment   </td><td> 0.846575728</td><td>0.1784759605</td><td> 4.74335998</td><td>2.111119e-06</td></tr>\n",
       "\t<tr><td>recency     </td><td>-0.040266556</td><td>0.0259469894</td><td>-1.55187775</td><td>1.207014e-01</td></tr>\n",
       "\t<tr><td>channelPhone</td><td>-0.001778911</td><td>0.3040193436</td><td>-0.00585131</td><td>9.953314e-01</td></tr>\n",
       "\t<tr><td>channelWeb  </td><td> 0.226159585</td><td>0.3034664353</td><td> 0.74525403</td><td>4.561237e-01</td></tr>\n",
       "\t<tr><td>history     </td><td> 0.001029897</td><td>0.0003753754</td><td> 2.74364500</td><td>6.079519e-03</td></tr>\n",
       "</tbody>\n",
       "</table>\n"
      ],
      "text/latex": [
       "A tibble: 6 × 5\n",
       "\\begin{tabular}{lllll}\n",
       " term & estimate & std.error & statistic & p.value\\\\\n",
       " <chr> & <dbl> & <dbl> & <dbl> & <dbl>\\\\\n",
       "\\hline\n",
       "\t (Intercept)  &  0.502412896 & 0.3793847254 &  1.32428341 & 1.854184e-01\\\\\n",
       "\t treatment    &  0.846575728 & 0.1784759605 &  4.74335998 & 2.111119e-06\\\\\n",
       "\t recency      & -0.040266556 & 0.0259469894 & -1.55187775 & 1.207014e-01\\\\\n",
       "\t channelPhone & -0.001778911 & 0.3040193436 & -0.00585131 & 9.953314e-01\\\\\n",
       "\t channelWeb   &  0.226159585 & 0.3034664353 &  0.74525403 & 4.561237e-01\\\\\n",
       "\t history      &  0.001029897 & 0.0003753754 &  2.74364500 & 6.079519e-03\\\\\n",
       "\\end{tabular}\n"
      ],
      "text/markdown": [
       "\n",
       "A tibble: 6 × 5\n",
       "\n",
       "| term &lt;chr&gt; | estimate &lt;dbl&gt; | std.error &lt;dbl&gt; | statistic &lt;dbl&gt; | p.value &lt;dbl&gt; |\n",
       "|---|---|---|---|---|\n",
       "| (Intercept)  |  0.502412896 | 0.3793847254 |  1.32428341 | 1.854184e-01 |\n",
       "| treatment    |  0.846575728 | 0.1784759605 |  4.74335998 | 2.111119e-06 |\n",
       "| recency      | -0.040266556 | 0.0259469894 | -1.55187775 | 1.207014e-01 |\n",
       "| channelPhone | -0.001778911 | 0.3040193436 | -0.00585131 | 9.953314e-01 |\n",
       "| channelWeb   |  0.226159585 | 0.3034664353 |  0.74525403 | 4.561237e-01 |\n",
       "| history      |  0.001029897 | 0.0003753754 |  2.74364500 | 6.079519e-03 |\n",
       "\n"
      ],
      "text/plain": [
       "  term         estimate     std.error    statistic   p.value     \n",
       "1 (Intercept)   0.502412896 0.3793847254  1.32428341 1.854184e-01\n",
       "2 treatment     0.846575728 0.1784759605  4.74335998 2.111119e-06\n",
       "3 recency      -0.040266556 0.0259469894 -1.55187775 1.207014e-01\n",
       "4 channelPhone -0.001778911 0.3040193436 -0.00585131 9.953314e-01\n",
       "5 channelWeb    0.226159585 0.3034664353  0.74525403 4.561237e-01\n",
       "6 history       0.001029897 0.0003753754  2.74364500 6.079519e-03"
      ]
     },
     "metadata": {},
     "output_type": "display_data"
    }
   ],
   "source": [
    "# バイアスのあるデータでの単回帰\n",
    "nonrct_mreg <- lm(data = biased_data, formula = spend ~ treatment + recency + channel + history)\n",
    "nonrct_mreg_coef <- summary(nonrct_mreg) %>% tidy()\n",
    "nonrct_mreg_coef"
   ]
  },
  {
   "cell_type": "markdown",
   "metadata": {},
   "source": [
    "treatmentの数字が小さくなったため、共変量によりバイアスの影響が少なくなった。\n",
    "\n",
    "「セレクションバイアスの影響をより小さくするために、どのような共変量をモデルに追加すべきか」\n",
    "=> 「目的変数Yと介入変数Zに対して相関のある変数を加えるべき」"
   ]
  },
  {
   "cell_type": "markdown",
   "metadata": {},
   "source": [
    "### 脱落変数バイアス\n",
    "共変量として必要にもかかわらず、モデルに追加していないものを脱落変数という\n",
    "下記のような２つの式があった場合。1式が脱落変数がある式である。\n",
    "\n",
    "$$\n",
    "1: Y_i = \\alpha_0 + \\alpha_1 Z_i + u_i \\\\\n",
    "2: Y_i = \\beta_0 + \\beta_1 Z_i + \\beta_{2}X_{omiti,i} + e_i \\\\\n",
    "$$\n",
    "モデル1の$u_i$に$\\beta_{2}X_{omiti,i} + e_i$が含まれているため\n",
    "\n",
    "$$\n",
    "u_i = \\beta_{2}X_{omiti,i} + e_i\n",
    "$$\n",
    "\n",
    "本当であれば含むべき共変量である$X_{omiti,i}$が抜けている変数を脱落変数という。\n",
    "この時のモデル１の介入効果を示すパラメータは下記で表現されることが知られている。\n",
    "\n",
    "$$\n",
    "\\alpha_1 = \\beta_1 + \\gamma_1 \\beta_2\n",
    "$$\n",
    "\n",
    "上式は介入効果の変数に余分な値$\\gamma_1 \\beta_2$が追加されている。この余分な値が脱落変数バイアスである。\n",
    "\n",
    "この$\\gamma_1$は$X_{omiti,i}$に対して$Z_i$に関する回帰係数のことである。\n",
    "\n",
    "$\\gamma_1 \\beta_2$の関係は$Y_i$と$X_{omiti,i}$の相関に$X_{omiti,i}$と$Z_i$の相関をかけたものである。\n",
    "\n",
    "\n",
    "$$\n",
    "Y_i = \\beta_{2}X_{omiti,i} \\\\ \n",
    "X_{omiti,i} = \\gamma_1 Z_i + \\epsilon_i \\\\\n",
    "$$\n",
    "\n"
   ]
  },
  {
   "cell_type": "markdown",
   "metadata": {},
   "source": [
    "## 脱落変数バイアスの実験\n",
    "$$\n",
    "ModelA: Spend_i = \\alpha_0 + \\alpha_{1}treatment_i + \\alpha_{2}recency_i + \\alpha_{3}channel_i+e_i \\\\\n",
    "ModelB: Spend_i = \\beta_0 + \\beta_{1}treatment_i + \\beta_{2}recency_i + \\beta_{3}channel_i+\\beta_{4}history_i+u_i \\\\\n",
    "ModelC: history_i = \\gamma_0 + \\gamma_{1}treatment_i + \\gamma_{2}recency_i + \\gamma_{3}channel_i+\\epsilon_i \\\\\n",
    "$$\n",
    "\n",
    "上式は過去の購入額であるhistoryを含まない場合（ModelA）と含む場合（ModelB）の違いがある。ModelAはOVBが発生している状態である。\n",
    "\n",
    "この場合のOVBの式から以下が算出できる\n",
    "\n",
    "$$\n",
    "\\alpha_{1} = \\beta_{1} + \\beta_{4}\\gamma_{1}\n",
    "$$"
   ]
  },
  {
   "cell_type": "code",
   "execution_count": 25,
   "metadata": {},
   "outputs": [],
   "source": [
    "formula_vec <- c(spend ~ treatment + recency + channel, # モデルA\n",
    "                 spend ~ treatment + recency + channel + history, # モデルB\n",
    "                 history ~ treatment + recency + channel # モデルC\n",
    "                )"
   ]
  },
  {
   "cell_type": "code",
   "execution_count": 27,
   "metadata": {},
   "outputs": [],
   "source": [
    "names(formula_vec) <- paste(\"reg\", LETTERS[1:3], sep=\"_\")"
   ]
  },
  {
   "cell_type": "code",
   "execution_count": 28,
   "metadata": {},
   "outputs": [],
   "source": [
    "models <- formula_vec %>%\n",
    "enframe(name = \"model_index\", value = \"formula\")"
   ]
  },
  {
   "cell_type": "code",
   "execution_count": 31,
   "metadata": {},
   "outputs": [],
   "source": [
    "df_models <- models %>%\n",
    "mutate(model = map(.x = formula, .f = lm, data = biased_data)) %>%\n",
    "mutate(lm_result = map(.x = model, .f = tidy))"
   ]
  },
  {
   "cell_type": "code",
   "execution_count": 32,
   "metadata": {},
   "outputs": [],
   "source": [
    "df_results <- df_models %>%\n",
    "mutate(formula = as.character(formula)) %>%\n",
    "select(formula, model_index, lm_result) %>%\n",
    "unnest(cols = c(lm_result))"
   ]
  },
  {
   "cell_type": "code",
   "execution_count": 35,
   "metadata": {},
   "outputs": [
    {
     "data": {
      "text/html": [
       "<table class=\"dataframe\">\n",
       "<caption>A tibble: 16 × 7</caption>\n",
       "<thead>\n",
       "\t<tr><th scope=col>formula</th><th scope=col>model_index</th><th scope=col>term</th><th scope=col>estimate</th><th scope=col>std.error</th><th scope=col>statistic</th><th scope=col>p.value</th></tr>\n",
       "\t<tr><th scope=col>&lt;chr&gt;</th><th scope=col>&lt;chr&gt;</th><th scope=col>&lt;chr&gt;</th><th scope=col>&lt;dbl&gt;</th><th scope=col>&lt;dbl&gt;</th><th scope=col>&lt;dbl&gt;</th><th scope=col>&lt;dbl&gt;</th></tr>\n",
       "</thead>\n",
       "<tbody>\n",
       "\t<tr><td>spend ~ treatment + recency + channel          </td><td>reg_A</td><td>(Intercept) </td><td> 1.096877e+00</td><td>0.3114595599</td><td>  3.52173018</td><td> 4.293395e-04</td></tr>\n",
       "\t<tr><td>spend ~ treatment + recency + channel          </td><td>reg_A</td><td>treatment   </td><td> 8.746297e-01</td><td>0.1782010706</td><td>  4.90810580</td><td> 9.241414e-07</td></tr>\n",
       "\t<tr><td>spend ~ treatment + recency + channel          </td><td>reg_A</td><td>recency     </td><td>-5.516998e-02</td><td>0.0253746286</td><td> -2.17421805</td><td> 2.969610e-02</td></tr>\n",
       "\t<tr><td>spend ~ treatment + recency + channel          </td><td>reg_A</td><td>channelPhone</td><td>-3.124893e-01</td><td>0.2821685970</td><td> -1.10745613</td><td> 2.681051e-01</td></tr>\n",
       "\t<tr><td>spend ~ treatment + recency + channel          </td><td>reg_A</td><td>channelWeb  </td><td>-8.467985e-02</td><td>0.2815537427</td><td> -0.30075911</td><td> 7.636002e-01</td></tr>\n",
       "\t<tr><td>spend ~ treatment + recency + channel + history</td><td>reg_B</td><td>(Intercept) </td><td> 5.024129e-01</td><td>0.3793847254</td><td>  1.32428341</td><td> 1.854184e-01</td></tr>\n",
       "\t<tr><td>spend ~ treatment + recency + channel + history</td><td>reg_B</td><td>treatment   </td><td> 8.465757e-01</td><td>0.1784759605</td><td>  4.74335998</td><td> 2.111119e-06</td></tr>\n",
       "\t<tr><td>spend ~ treatment + recency + channel + history</td><td>reg_B</td><td>recency     </td><td>-4.026656e-02</td><td>0.0259469894</td><td> -1.55187775</td><td> 1.207014e-01</td></tr>\n",
       "\t<tr><td>spend ~ treatment + recency + channel + history</td><td>reg_B</td><td>channelPhone</td><td>-1.778911e-03</td><td>0.3040193436</td><td> -0.00585131</td><td> 9.953314e-01</td></tr>\n",
       "\t<tr><td>spend ~ treatment + recency + channel + history</td><td>reg_B</td><td>channelWeb  </td><td> 2.261596e-01</td><td>0.3034664353</td><td>  0.74525403</td><td> 4.561237e-01</td></tr>\n",
       "\t<tr><td>spend ~ treatment + recency + channel + history</td><td>reg_B</td><td>history     </td><td> 1.029897e-03</td><td>0.0003753754</td><td>  2.74364500</td><td> 6.079519e-03</td></tr>\n",
       "\t<tr><td>history ~ treatment + recency + channel        </td><td>reg_C</td><td>(Intercept) </td><td> 5.772069e+02</td><td>4.6481706758</td><td>124.17937022</td><td> 0.000000e+00</td></tr>\n",
       "\t<tr><td>history ~ treatment + recency + channel        </td><td>reg_C</td><td>treatment   </td><td> 2.723960e+01</td><td>2.6594431430</td><td> 10.24259518</td><td> 1.394896e-24</td></tr>\n",
       "\t<tr><td>history ~ treatment + recency + channel        </td><td>reg_C</td><td>recency     </td><td>-1.447079e+01</td><td>0.3786867368</td><td>-38.21308172</td><td>1.969894e-312</td></tr>\n",
       "\t<tr><td>history ~ treatment + recency + channel        </td><td>reg_C</td><td>channelPhone</td><td>-3.016908e+02</td><td>4.2110372160</td><td>-71.64287067</td><td> 0.000000e+00</td></tr>\n",
       "\t<tr><td>history ~ treatment + recency + channel        </td><td>reg_C</td><td>channelWeb  </td><td>-3.018161e+02</td><td>4.2018612335</td><td>-71.82913496</td><td> 0.000000e+00</td></tr>\n",
       "</tbody>\n",
       "</table>\n"
      ],
      "text/latex": [
       "A tibble: 16 × 7\n",
       "\\begin{tabular}{lllllll}\n",
       " formula & model\\_index & term & estimate & std.error & statistic & p.value\\\\\n",
       " <chr> & <chr> & <chr> & <dbl> & <dbl> & <dbl> & <dbl>\\\\\n",
       "\\hline\n",
       "\t spend \\textasciitilde{} treatment + recency + channel           & reg\\_A & (Intercept)  &  1.096877e+00 & 0.3114595599 &   3.52173018 &  4.293395e-04\\\\\n",
       "\t spend \\textasciitilde{} treatment + recency + channel           & reg\\_A & treatment    &  8.746297e-01 & 0.1782010706 &   4.90810580 &  9.241414e-07\\\\\n",
       "\t spend \\textasciitilde{} treatment + recency + channel           & reg\\_A & recency      & -5.516998e-02 & 0.0253746286 &  -2.17421805 &  2.969610e-02\\\\\n",
       "\t spend \\textasciitilde{} treatment + recency + channel           & reg\\_A & channelPhone & -3.124893e-01 & 0.2821685970 &  -1.10745613 &  2.681051e-01\\\\\n",
       "\t spend \\textasciitilde{} treatment + recency + channel           & reg\\_A & channelWeb   & -8.467985e-02 & 0.2815537427 &  -0.30075911 &  7.636002e-01\\\\\n",
       "\t spend \\textasciitilde{} treatment + recency + channel + history & reg\\_B & (Intercept)  &  5.024129e-01 & 0.3793847254 &   1.32428341 &  1.854184e-01\\\\\n",
       "\t spend \\textasciitilde{} treatment + recency + channel + history & reg\\_B & treatment    &  8.465757e-01 & 0.1784759605 &   4.74335998 &  2.111119e-06\\\\\n",
       "\t spend \\textasciitilde{} treatment + recency + channel + history & reg\\_B & recency      & -4.026656e-02 & 0.0259469894 &  -1.55187775 &  1.207014e-01\\\\\n",
       "\t spend \\textasciitilde{} treatment + recency + channel + history & reg\\_B & channelPhone & -1.778911e-03 & 0.3040193436 &  -0.00585131 &  9.953314e-01\\\\\n",
       "\t spend \\textasciitilde{} treatment + recency + channel + history & reg\\_B & channelWeb   &  2.261596e-01 & 0.3034664353 &   0.74525403 &  4.561237e-01\\\\\n",
       "\t spend \\textasciitilde{} treatment + recency + channel + history & reg\\_B & history      &  1.029897e-03 & 0.0003753754 &   2.74364500 &  6.079519e-03\\\\\n",
       "\t history \\textasciitilde{} treatment + recency + channel         & reg\\_C & (Intercept)  &  5.772069e+02 & 4.6481706758 & 124.17937022 &  0.000000e+00\\\\\n",
       "\t history \\textasciitilde{} treatment + recency + channel         & reg\\_C & treatment    &  2.723960e+01 & 2.6594431430 &  10.24259518 &  1.394896e-24\\\\\n",
       "\t history \\textasciitilde{} treatment + recency + channel         & reg\\_C & recency      & -1.447079e+01 & 0.3786867368 & -38.21308172 & 1.969894e-312\\\\\n",
       "\t history \\textasciitilde{} treatment + recency + channel         & reg\\_C & channelPhone & -3.016908e+02 & 4.2110372160 & -71.64287067 &  0.000000e+00\\\\\n",
       "\t history \\textasciitilde{} treatment + recency + channel         & reg\\_C & channelWeb   & -3.018161e+02 & 4.2018612335 & -71.82913496 &  0.000000e+00\\\\\n",
       "\\end{tabular}\n"
      ],
      "text/markdown": [
       "\n",
       "A tibble: 16 × 7\n",
       "\n",
       "| formula &lt;chr&gt; | model_index &lt;chr&gt; | term &lt;chr&gt; | estimate &lt;dbl&gt; | std.error &lt;dbl&gt; | statistic &lt;dbl&gt; | p.value &lt;dbl&gt; |\n",
       "|---|---|---|---|---|---|---|\n",
       "| spend ~ treatment + recency + channel           | reg_A | (Intercept)  |  1.096877e+00 | 0.3114595599 |   3.52173018 |  4.293395e-04 |\n",
       "| spend ~ treatment + recency + channel           | reg_A | treatment    |  8.746297e-01 | 0.1782010706 |   4.90810580 |  9.241414e-07 |\n",
       "| spend ~ treatment + recency + channel           | reg_A | recency      | -5.516998e-02 | 0.0253746286 |  -2.17421805 |  2.969610e-02 |\n",
       "| spend ~ treatment + recency + channel           | reg_A | channelPhone | -3.124893e-01 | 0.2821685970 |  -1.10745613 |  2.681051e-01 |\n",
       "| spend ~ treatment + recency + channel           | reg_A | channelWeb   | -8.467985e-02 | 0.2815537427 |  -0.30075911 |  7.636002e-01 |\n",
       "| spend ~ treatment + recency + channel + history | reg_B | (Intercept)  |  5.024129e-01 | 0.3793847254 |   1.32428341 |  1.854184e-01 |\n",
       "| spend ~ treatment + recency + channel + history | reg_B | treatment    |  8.465757e-01 | 0.1784759605 |   4.74335998 |  2.111119e-06 |\n",
       "| spend ~ treatment + recency + channel + history | reg_B | recency      | -4.026656e-02 | 0.0259469894 |  -1.55187775 |  1.207014e-01 |\n",
       "| spend ~ treatment + recency + channel + history | reg_B | channelPhone | -1.778911e-03 | 0.3040193436 |  -0.00585131 |  9.953314e-01 |\n",
       "| spend ~ treatment + recency + channel + history | reg_B | channelWeb   |  2.261596e-01 | 0.3034664353 |   0.74525403 |  4.561237e-01 |\n",
       "| spend ~ treatment + recency + channel + history | reg_B | history      |  1.029897e-03 | 0.0003753754 |   2.74364500 |  6.079519e-03 |\n",
       "| history ~ treatment + recency + channel         | reg_C | (Intercept)  |  5.772069e+02 | 4.6481706758 | 124.17937022 |  0.000000e+00 |\n",
       "| history ~ treatment + recency + channel         | reg_C | treatment    |  2.723960e+01 | 2.6594431430 |  10.24259518 |  1.394896e-24 |\n",
       "| history ~ treatment + recency + channel         | reg_C | recency      | -1.447079e+01 | 0.3786867368 | -38.21308172 | 1.969894e-312 |\n",
       "| history ~ treatment + recency + channel         | reg_C | channelPhone | -3.016908e+02 | 4.2110372160 | -71.64287067 |  0.000000e+00 |\n",
       "| history ~ treatment + recency + channel         | reg_C | channelWeb   | -3.018161e+02 | 4.2018612335 | -71.82913496 |  0.000000e+00 |\n",
       "\n"
      ],
      "text/plain": [
       "   formula                                         model_index term        \n",
       "1  spend ~ treatment + recency + channel           reg_A       (Intercept) \n",
       "2  spend ~ treatment + recency + channel           reg_A       treatment   \n",
       "3  spend ~ treatment + recency + channel           reg_A       recency     \n",
       "4  spend ~ treatment + recency + channel           reg_A       channelPhone\n",
       "5  spend ~ treatment + recency + channel           reg_A       channelWeb  \n",
       "6  spend ~ treatment + recency + channel + history reg_B       (Intercept) \n",
       "7  spend ~ treatment + recency + channel + history reg_B       treatment   \n",
       "8  spend ~ treatment + recency + channel + history reg_B       recency     \n",
       "9  spend ~ treatment + recency + channel + history reg_B       channelPhone\n",
       "10 spend ~ treatment + recency + channel + history reg_B       channelWeb  \n",
       "11 spend ~ treatment + recency + channel + history reg_B       history     \n",
       "12 history ~ treatment + recency + channel         reg_C       (Intercept) \n",
       "13 history ~ treatment + recency + channel         reg_C       treatment   \n",
       "14 history ~ treatment + recency + channel         reg_C       recency     \n",
       "15 history ~ treatment + recency + channel         reg_C       channelPhone\n",
       "16 history ~ treatment + recency + channel         reg_C       channelWeb  \n",
       "   estimate      std.error    statistic    p.value      \n",
       "1   1.096877e+00 0.3114595599   3.52173018  4.293395e-04\n",
       "2   8.746297e-01 0.1782010706   4.90810580  9.241414e-07\n",
       "3  -5.516998e-02 0.0253746286  -2.17421805  2.969610e-02\n",
       "4  -3.124893e-01 0.2821685970  -1.10745613  2.681051e-01\n",
       "5  -8.467985e-02 0.2815537427  -0.30075911  7.636002e-01\n",
       "6   5.024129e-01 0.3793847254   1.32428341  1.854184e-01\n",
       "7   8.465757e-01 0.1784759605   4.74335998  2.111119e-06\n",
       "8  -4.026656e-02 0.0259469894  -1.55187775  1.207014e-01\n",
       "9  -1.778911e-03 0.3040193436  -0.00585131  9.953314e-01\n",
       "10  2.261596e-01 0.3034664353   0.74525403  4.561237e-01\n",
       "11  1.029897e-03 0.0003753754   2.74364500  6.079519e-03\n",
       "12  5.772069e+02 4.6481706758 124.17937022  0.000000e+00\n",
       "13  2.723960e+01 2.6594431430  10.24259518  1.394896e-24\n",
       "14 -1.447079e+01 0.3786867368 -38.21308172 1.969894e-312\n",
       "15 -3.016908e+02 4.2110372160 -71.64287067  0.000000e+00\n",
       "16 -3.018161e+02 4.2018612335 -71.82913496  0.000000e+00"
      ]
     },
     "metadata": {},
     "output_type": "display_data"
    }
   ],
   "source": [
    "df_results"
   ]
  },
  {
   "cell_type": "code",
   "execution_count": 34,
   "metadata": {},
   "outputs": [],
   "source": [
    "# A,B,Cのtreatmentの回帰係数\n",
    "treatment_coef <- df_results %>%\n",
    "filter(term == \"treatment\") %>%\n",
    "pull(estimate)"
   ]
  },
  {
   "cell_type": "code",
   "execution_count": 37,
   "metadata": {},
   "outputs": [],
   "source": [
    "# Bの回帰係数 history\n",
    "history_coef <- df_results %>%\n",
    "filter(model_index == \"reg_B\", term == \"history\") %>%\n",
    "pull(estimate)"
   ]
  },
  {
   "cell_type": "markdown",
   "metadata": {},
   "source": [
    "$$\n",
    "OVB = \\beta_{4}\\gamma_{1}\n",
    "$$\n",
    "\n",
    "$\\beta_{4}$はモデルBのhistoryの回帰係数で$\\gamma_{1}$はモデルCのtreatmentの回帰係数である"
   ]
  },
  {
   "cell_type": "code",
   "execution_count": 46,
   "metadata": {},
   "outputs": [],
   "source": [
    "OVB <- history_coef * treatment_coef[3]\n",
    "coef_gap <- treatment_coef[1] - treatment_coef[2] # Aの介入係数 - Bの介入係数"
   ]
  },
  {
   "cell_type": "code",
   "execution_count": 47,
   "metadata": {},
   "outputs": [
    {
     "data": {
      "text/html": [
       "0.0280539805838824"
      ],
      "text/latex": [
       "0.0280539805838824"
      ],
      "text/markdown": [
       "0.0280539805838824"
      ],
      "text/plain": [
       "[1] 0.02805398"
      ]
     },
     "metadata": {},
     "output_type": "display_data"
    }
   ],
   "source": [
    "OVB"
   ]
  },
  {
   "cell_type": "code",
   "execution_count": 48,
   "metadata": {},
   "outputs": [
    {
     "data": {
      "text/html": [
       "0.0280539805838823"
      ],
      "text/latex": [
       "0.0280539805838823"
      ],
      "text/markdown": [
       "0.0280539805838823"
      ],
      "text/plain": [
       "[1] 0.02805398"
      ]
     },
     "metadata": {},
     "output_type": "display_data"
    }
   ],
   "source": [
    "coef_gap"
   ]
  },
  {
   "cell_type": "code",
   "execution_count": 49,
   "metadata": {},
   "outputs": [
    {
     "data": {
      "text/html": [
       "0.87462970851458"
      ],
      "text/latex": [
       "0.87462970851458"
      ],
      "text/markdown": [
       "0.87462970851458"
      ],
      "text/plain": [
       "[1] 0.8746297"
      ]
     },
     "metadata": {},
     "output_type": "display_data"
    }
   ],
   "source": [
    "treatment_coef[1]"
   ]
  },
  {
   "cell_type": "code",
   "execution_count": 51,
   "metadata": {},
   "outputs": [
    {
     "data": {
      "text/html": [
       "0.87462970851458"
      ],
      "text/latex": [
       "0.87462970851458"
      ],
      "text/markdown": [
       "0.87462970851458"
      ],
      "text/plain": [
       "[1] 0.8746297"
      ]
     },
     "metadata": {},
     "output_type": "display_data"
    }
   ],
   "source": [
    "# モデルAの介入の回帰係数を出してみる\n",
    "OVB + treatment_coef[2]"
   ]
  },
  {
   "cell_type": "code",
   "execution_count": null,
   "metadata": {},
   "outputs": [],
   "source": []
  }
 ],
 "metadata": {
  "kernelspec": {
   "display_name": "R",
   "language": "R",
   "name": "ir"
  },
  "language_info": {
   "codemirror_mode": "r",
   "file_extension": ".r",
   "mimetype": "text/x-r-source",
   "name": "R",
   "pygments_lexer": "r",
   "version": "4.0.4"
  }
 },
 "nbformat": 4,
 "nbformat_minor": 4
}
