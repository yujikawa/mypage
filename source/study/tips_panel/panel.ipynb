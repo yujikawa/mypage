{
 "cells": [
  {
   "cell_type": "markdown",
   "metadata": {},
   "source": [
    "## Panel tips"
   ]
  },
  {
   "cell_type": "code",
   "execution_count": 31,
   "metadata": {},
   "outputs": [],
   "source": [
    "import panel as pn\n",
    "import pandas as pd\n",
    "from sklearn.datasets import load_boston\n",
    "from matplotlib.figure import Figure\n",
    "from matplotlib.backends.backend_agg import FigureCanvas\n",
    "import matplotlib.pyplot as plt\n",
    "data = load_boston()\n",
    "df = pd.DataFrame(data.data, columns=data.feature_names)\n"
   ]
  },
  {
   "cell_type": "code",
   "execution_count": 32,
   "metadata": {},
   "outputs": [
    {
     "data": {
      "text/html": [
       "<div>\n",
       "<style scoped>\n",
       "    .dataframe tbody tr th:only-of-type {\n",
       "        vertical-align: middle;\n",
       "    }\n",
       "\n",
       "    .dataframe tbody tr th {\n",
       "        vertical-align: top;\n",
       "    }\n",
       "\n",
       "    .dataframe thead th {\n",
       "        text-align: right;\n",
       "    }\n",
       "</style>\n",
       "<table border=\"1\" class=\"dataframe\">\n",
       "  <thead>\n",
       "    <tr style=\"text-align: right;\">\n",
       "      <th></th>\n",
       "      <th>CRIM</th>\n",
       "      <th>ZN</th>\n",
       "      <th>INDUS</th>\n",
       "      <th>CHAS</th>\n",
       "      <th>NOX</th>\n",
       "      <th>RM</th>\n",
       "      <th>AGE</th>\n",
       "      <th>DIS</th>\n",
       "      <th>RAD</th>\n",
       "      <th>TAX</th>\n",
       "      <th>PTRATIO</th>\n",
       "      <th>B</th>\n",
       "      <th>LSTAT</th>\n",
       "    </tr>\n",
       "  </thead>\n",
       "  <tbody>\n",
       "    <tr>\n",
       "      <th>0</th>\n",
       "      <td>0.00632</td>\n",
       "      <td>18.0</td>\n",
       "      <td>2.31</td>\n",
       "      <td>0.0</td>\n",
       "      <td>0.538</td>\n",
       "      <td>6.575</td>\n",
       "      <td>65.2</td>\n",
       "      <td>4.0900</td>\n",
       "      <td>1.0</td>\n",
       "      <td>296.0</td>\n",
       "      <td>15.3</td>\n",
       "      <td>396.90</td>\n",
       "      <td>4.98</td>\n",
       "    </tr>\n",
       "    <tr>\n",
       "      <th>1</th>\n",
       "      <td>0.02731</td>\n",
       "      <td>0.0</td>\n",
       "      <td>7.07</td>\n",
       "      <td>0.0</td>\n",
       "      <td>0.469</td>\n",
       "      <td>6.421</td>\n",
       "      <td>78.9</td>\n",
       "      <td>4.9671</td>\n",
       "      <td>2.0</td>\n",
       "      <td>242.0</td>\n",
       "      <td>17.8</td>\n",
       "      <td>396.90</td>\n",
       "      <td>9.14</td>\n",
       "    </tr>\n",
       "    <tr>\n",
       "      <th>2</th>\n",
       "      <td>0.02729</td>\n",
       "      <td>0.0</td>\n",
       "      <td>7.07</td>\n",
       "      <td>0.0</td>\n",
       "      <td>0.469</td>\n",
       "      <td>7.185</td>\n",
       "      <td>61.1</td>\n",
       "      <td>4.9671</td>\n",
       "      <td>2.0</td>\n",
       "      <td>242.0</td>\n",
       "      <td>17.8</td>\n",
       "      <td>392.83</td>\n",
       "      <td>4.03</td>\n",
       "    </tr>\n",
       "    <tr>\n",
       "      <th>3</th>\n",
       "      <td>0.03237</td>\n",
       "      <td>0.0</td>\n",
       "      <td>2.18</td>\n",
       "      <td>0.0</td>\n",
       "      <td>0.458</td>\n",
       "      <td>6.998</td>\n",
       "      <td>45.8</td>\n",
       "      <td>6.0622</td>\n",
       "      <td>3.0</td>\n",
       "      <td>222.0</td>\n",
       "      <td>18.7</td>\n",
       "      <td>394.63</td>\n",
       "      <td>2.94</td>\n",
       "    </tr>\n",
       "    <tr>\n",
       "      <th>4</th>\n",
       "      <td>0.06905</td>\n",
       "      <td>0.0</td>\n",
       "      <td>2.18</td>\n",
       "      <td>0.0</td>\n",
       "      <td>0.458</td>\n",
       "      <td>7.147</td>\n",
       "      <td>54.2</td>\n",
       "      <td>6.0622</td>\n",
       "      <td>3.0</td>\n",
       "      <td>222.0</td>\n",
       "      <td>18.7</td>\n",
       "      <td>396.90</td>\n",
       "      <td>5.33</td>\n",
       "    </tr>\n",
       "  </tbody>\n",
       "</table>\n",
       "</div>"
      ],
      "text/plain": [
       "      CRIM    ZN  INDUS  CHAS    NOX     RM   AGE     DIS  RAD    TAX  \\\n",
       "0  0.00632  18.0   2.31   0.0  0.538  6.575  65.2  4.0900  1.0  296.0   \n",
       "1  0.02731   0.0   7.07   0.0  0.469  6.421  78.9  4.9671  2.0  242.0   \n",
       "2  0.02729   0.0   7.07   0.0  0.469  7.185  61.1  4.9671  2.0  242.0   \n",
       "3  0.03237   0.0   2.18   0.0  0.458  6.998  45.8  6.0622  3.0  222.0   \n",
       "4  0.06905   0.0   2.18   0.0  0.458  7.147  54.2  6.0622  3.0  222.0   \n",
       "\n",
       "   PTRATIO       B  LSTAT  \n",
       "0     15.3  396.90   4.98  \n",
       "1     17.8  396.90   9.14  \n",
       "2     17.8  392.83   4.03  \n",
       "3     18.7  394.63   2.94  \n",
       "4     18.7  396.90   5.33  "
      ]
     },
     "execution_count": 32,
     "metadata": {},
     "output_type": "execute_result"
    }
   ],
   "source": [
    "df.head()"
   ]
  },
  {
   "cell_type": "code",
   "execution_count": 34,
   "metadata": {},
   "outputs": [],
   "source": [
    "## 選択フォームを追加\n",
    "select1 = pn.widgets.Select(name='Feature1', options=list(df.columns))\n",
    "select2 = pn.widgets.Select(name='Feature2', options=list(df.columns))"
   ]
  },
  {
   "cell_type": "code",
   "execution_count": 35,
   "metadata": {},
   "outputs": [],
   "source": [
    "@pn.depends(select1.param.value, select2.param.value)\n",
    "def plot(feature1, feature2):\n",
    "    fig = Figure()\n",
    "    FigureCanvas(fig)\n",
    "    ax = fig.add_subplot()\n",
    "    ax.scatter(df[feature1], df[feature2])\n",
    "    return fig"
   ]
  },
  {
   "cell_type": "code",
   "execution_count": 38,
   "metadata": {},
   "outputs": [
    {
     "data": {},
     "metadata": {},
     "output_type": "display_data"
    },
    {
     "data": {
      "application/vnd.holoviews_exec.v0+json": "",
      "text/html": [
       "<div id='1201'>\n",
       "\n",
       "\n",
       "\n",
       "\n",
       "\n",
       "  <div class=\"bk-root\" id=\"27b5b4ff-a387-4162-b717-0f9534501944\" data-root-id=\"1201\"></div>\n",
       "</div>\n",
       "<script type=\"application/javascript\">(function(root) {\n",
       "  function embed_document(root) {\n",
       "  var docs_json = {\"1ad3570a-7446-4ef8-8d4c-cc9f5d27f066\":{\"roots\":{\"references\":[{\"attributes\":{\"children\":[{\"id\":\"1207\"}],\"margin\":[0,0,0,0],\"name\":\"Row00252\"},\"id\":\"1206\",\"type\":\"Row\"},{\"attributes\":{\"css_classes\":[\"markdown\"],\"margin\":[5,5,5,5],\"name\":\"Markdown00245\",\"text\":\"&lt;p&gt;Test panel dashboard&lt;/p&gt;\"},\"id\":\"1203\",\"type\":\"panel.models.markup.HTML\"},{\"attributes\":{\"client_comm_id\":\"181cea12fa2b4f1cb604d6a64b4da898\",\"comm_id\":\"e40f0fb0c1b94fc98370e442816b16bd\",\"plot_id\":\"1201\"},\"id\":\"1208\",\"type\":\"panel.models.comm_manager.CommManager\"},{\"attributes\":{\"children\":[{\"id\":\"1203\"},{\"id\":\"1204\"},{\"id\":\"1205\"}],\"margin\":[0,0,0,0],\"name\":\"Column00247\"},\"id\":\"1202\",\"type\":\"Column\"},{\"attributes\":{\"margin\":[5,10,5,10],\"options\":[\"CRIM\",\"ZN\",\"INDUS\",\"CHAS\",\"NOX\",\"RM\",\"AGE\",\"DIS\",\"RAD\",\"TAX\",\"PTRATIO\",\"B\",\"LSTAT\"],\"title\":\"Feature2\",\"value\":\"CRIM\"},\"id\":\"1205\",\"type\":\"Select\"},{\"attributes\":{\"children\":[{\"id\":\"1202\"},{\"id\":\"1206\"}],\"margin\":[0,0,0,0],\"name\":\"Row00255\"},\"id\":\"1201\",\"type\":\"Row\"},{\"attributes\":{\"margin\":[5,10,5,10],\"options\":[\"CRIM\",\"ZN\",\"INDUS\",\"CHAS\",\"NOX\",\"RM\",\"AGE\",\"DIS\",\"RAD\",\"TAX\",\"PTRATIO\",\"B\",\"LSTAT\"],\"title\":\"Feature1\",\"value\":\"CRIM\"},\"id\":\"1204\",\"type\":\"Select\"},{\"attributes\":{\"height\":288,\"margin\":[5,5,5,5],\"name\":\"ParamFunction00248\",\"text\":\"&lt;img src=&quot;data:image/png;base64,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&quot; width=&quot;432px&quot; height=&quot;288px&quot; alt=&quot;&quot;&gt;&lt;/img&gt;\",\"width\":432},\"id\":\"1207\",\"type\":\"panel.models.markup.HTML\"}],\"root_ids\":[\"1201\",\"1208\"]},\"title\":\"Bokeh Application\",\"version\":\"2.1.1\"}};\n",
       "  var render_items = [{\"docid\":\"1ad3570a-7446-4ef8-8d4c-cc9f5d27f066\",\"root_ids\":[\"1201\"],\"roots\":{\"1201\":\"27b5b4ff-a387-4162-b717-0f9534501944\"}}];\n",
       "  root.Bokeh.embed.embed_items_notebook(docs_json, render_items);\n",
       "  }\n",
       "if (root.Bokeh !== undefined) {\n",
       "    embed_document(root);\n",
       "  } else {\n",
       "    var attempts = 0;\n",
       "    var timer = setInterval(function(root) {\n",
       "      if (root.Bokeh !== undefined) {\n",
       "        clearInterval(timer);\n",
       "        embed_document(root);\n",
       "      } else if (document.readyState == \"complete\") {\n",
       "        attempts++;\n",
       "        if (attempts > 100) {\n",
       "          clearInterval(timer);\n",
       "          console.log(\"Bokeh: ERROR: Unable to run BokehJS code because BokehJS library is missing\");\n",
       "        }\n",
       "      }\n",
       "    }, 10, root)\n",
       "  }\n",
       "})(window);</script>"
      ],
      "text/plain": [
       "Row\n",
       "    [0] Column\n",
       "        [0] Markdown(str)\n",
       "        [1] Select(name='Feature1', options=['CRIM', 'ZN', ...], value='CRIM')\n",
       "        [2] Select(name='Feature2', options=['CRIM', 'ZN', ...], value='CRIM')\n",
       "    [1] ParamFunction(function)"
      ]
     },
     "execution_count": 38,
     "metadata": {
      "application/vnd.holoviews_exec.v0+json": {
       "id": "1201"
      }
     },
     "output_type": "execute_result"
    }
   ],
   "source": [
    "dashboard = pn.Row(\n",
    "    pn.Column('Test panel dashboard', select1, select2),\n",
    "    plot\n",
    ")\n",
    "\n",
    "dashboard.servable()"
   ]
  },
  {
   "cell_type": "code",
   "execution_count": null,
   "metadata": {},
   "outputs": [],
   "source": []
  }
 ],
 "metadata": {
  "kernelspec": {
   "display_name": "Python 3.7.4 64-bit ('.venv': venv)",
   "language": "python",
   "name": "python37464bitvenvvenv76894cff4cd8411aaa5a93c2ee554804"
  },
  "language_info": {
   "codemirror_mode": {
    "name": "ipython",
    "version": 3
   },
   "file_extension": ".py",
   "mimetype": "text/x-python",
   "name": "python",
   "nbconvert_exporter": "python",
   "pygments_lexer": "ipython3",
   "version": "3.7.4"
  }
 },
 "nbformat": 4,
 "nbformat_minor": 4
}
