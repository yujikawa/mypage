{
 "cells": [
  {
   "cell_type": "markdown",
   "metadata": {},
   "source": [
    "# MakeOverMonday\n",
    "## 2020/W25\n",
    "### https://data.world/makeovermonday/2020w25-amazons-tiny-profits-explained"
   ]
  },
  {
   "cell_type": "code",
   "execution_count": 11,
   "metadata": {},
   "outputs": [],
   "source": [
    "import matplotlib.pyplot as plt"
   ]
  },
  {
   "cell_type": "code",
   "execution_count": 40,
   "metadata": {},
   "outputs": [],
   "source": [
    "import pandas as pd\n",
    "df = pd.read_excel('https://query.data.world/s/boarssbicaohnlgdpcsc23ljpp6k4m')"
   ]
  },
  {
   "cell_type": "code",
   "execution_count": 41,
   "metadata": {},
   "outputs": [
    {
     "data": {
      "text/html": [
       "<div>\n",
       "<style scoped>\n",
       "    .dataframe tbody tr th:only-of-type {\n",
       "        vertical-align: middle;\n",
       "    }\n",
       "\n",
       "    .dataframe tbody tr th {\n",
       "        vertical-align: top;\n",
       "    }\n",
       "\n",
       "    .dataframe thead th {\n",
       "        text-align: right;\n",
       "    }\n",
       "</style>\n",
       "<table border=\"1\" class=\"dataframe\">\n",
       "  <thead>\n",
       "    <tr style=\"text-align: right;\">\n",
       "      <th></th>\n",
       "      <th>Quarter</th>\n",
       "      <th>Revenue (US $M)</th>\n",
       "      <th>Net Income (US $M)</th>\n",
       "    </tr>\n",
       "  </thead>\n",
       "  <tbody>\n",
       "    <tr>\n",
       "      <th>0</th>\n",
       "      <td>2020-03-31</td>\n",
       "      <td>$75,452</td>\n",
       "      <td>$2,535</td>\n",
       "    </tr>\n",
       "    <tr>\n",
       "      <th>1</th>\n",
       "      <td>2019-12-31</td>\n",
       "      <td>$87,437</td>\n",
       "      <td>$3,268</td>\n",
       "    </tr>\n",
       "    <tr>\n",
       "      <th>2</th>\n",
       "      <td>2019-09-30</td>\n",
       "      <td>$69,981</td>\n",
       "      <td>$2,134</td>\n",
       "    </tr>\n",
       "    <tr>\n",
       "      <th>3</th>\n",
       "      <td>2019-06-30</td>\n",
       "      <td>$63,404</td>\n",
       "      <td>$2,625</td>\n",
       "    </tr>\n",
       "    <tr>\n",
       "      <th>4</th>\n",
       "      <td>2019-03-31</td>\n",
       "      <td>$59,700</td>\n",
       "      <td>$3,561</td>\n",
       "    </tr>\n",
       "  </tbody>\n",
       "</table>\n",
       "</div>"
      ],
      "text/plain": [
       "     Quarter Revenue (US $M) Net Income (US $M)\n",
       "0 2020-03-31         $75,452             $2,535\n",
       "1 2019-12-31         $87,437             $3,268\n",
       "2 2019-09-30         $69,981             $2,134\n",
       "3 2019-06-30         $63,404             $2,625\n",
       "4 2019-03-31         $59,700             $3,561"
      ]
     },
     "execution_count": 41,
     "metadata": {},
     "output_type": "execute_result"
    }
   ],
   "source": [
    "df.head()"
   ]
  },
  {
   "cell_type": "code",
   "execution_count": 42,
   "metadata": {},
   "outputs": [
    {
     "name": "stdout",
     "output_type": "stream",
     "text": [
      "<class 'pandas.core.frame.DataFrame'>\n",
      "RangeIndex: 61 entries, 0 to 60\n",
      "Data columns (total 3 columns):\n",
      " #   Column              Non-Null Count  Dtype         \n",
      "---  ------              --------------  -----         \n",
      " 0   Quarter             61 non-null     datetime64[ns]\n",
      " 1   Revenue (US $M)     61 non-null     object        \n",
      " 2   Net Income (US $M)  61 non-null     object        \n",
      "dtypes: datetime64[ns](1), object(2)\n",
      "memory usage: 1.6+ KB\n"
     ]
    }
   ],
   "source": [
    "df.info()"
   ]
  },
  {
   "cell_type": "code",
   "execution_count": 43,
   "metadata": {},
   "outputs": [
    {
     "data": {
      "text/plain": [
       "(61, 3)"
      ]
     },
     "execution_count": 43,
     "metadata": {},
     "output_type": "execute_result"
    }
   ],
   "source": [
    "df.shape"
   ]
  },
  {
   "cell_type": "code",
   "execution_count": 44,
   "metadata": {},
   "outputs": [],
   "source": [
    "df['revenue'] = df['Revenue (US $M)'].apply(lambda x: float(x.replace('$','').replace(',','')))\n",
    "df['net_income'] = df['Net Income (US $M)'].apply(lambda x: float(x.replace('$','').replace(',','')))"
   ]
  },
  {
   "cell_type": "code",
   "execution_count": 49,
   "metadata": {},
   "outputs": [],
   "source": [
    "df['net_income_rate'] = 100 * (df['net_income'] / df['revenue'])\n",
    "df['revenue_rate'] = 100 - df['net_income_rate']"
   ]
  },
  {
   "cell_type": "code",
   "execution_count": 50,
   "metadata": {},
   "outputs": [
    {
     "data": {
      "text/html": [
       "<div>\n",
       "<style scoped>\n",
       "    .dataframe tbody tr th:only-of-type {\n",
       "        vertical-align: middle;\n",
       "    }\n",
       "\n",
       "    .dataframe tbody tr th {\n",
       "        vertical-align: top;\n",
       "    }\n",
       "\n",
       "    .dataframe thead th {\n",
       "        text-align: right;\n",
       "    }\n",
       "</style>\n",
       "<table border=\"1\" class=\"dataframe\">\n",
       "  <thead>\n",
       "    <tr style=\"text-align: right;\">\n",
       "      <th></th>\n",
       "      <th>Quarter</th>\n",
       "      <th>Revenue (US $M)</th>\n",
       "      <th>Net Income (US $M)</th>\n",
       "      <th>revenue</th>\n",
       "      <th>net_income</th>\n",
       "      <th>net_income_rate</th>\n",
       "      <th>revenue_rate</th>\n",
       "    </tr>\n",
       "  </thead>\n",
       "  <tbody>\n",
       "    <tr>\n",
       "      <th>0</th>\n",
       "      <td>2020-03-31</td>\n",
       "      <td>$75,452</td>\n",
       "      <td>$2,535</td>\n",
       "      <td>75452.0</td>\n",
       "      <td>2535.0</td>\n",
       "      <td>3.359752</td>\n",
       "      <td>96.640248</td>\n",
       "    </tr>\n",
       "    <tr>\n",
       "      <th>1</th>\n",
       "      <td>2019-12-31</td>\n",
       "      <td>$87,437</td>\n",
       "      <td>$3,268</td>\n",
       "      <td>87437.0</td>\n",
       "      <td>3268.0</td>\n",
       "      <td>3.737548</td>\n",
       "      <td>96.262452</td>\n",
       "    </tr>\n",
       "    <tr>\n",
       "      <th>2</th>\n",
       "      <td>2019-09-30</td>\n",
       "      <td>$69,981</td>\n",
       "      <td>$2,134</td>\n",
       "      <td>69981.0</td>\n",
       "      <td>2134.0</td>\n",
       "      <td>3.049399</td>\n",
       "      <td>96.950601</td>\n",
       "    </tr>\n",
       "    <tr>\n",
       "      <th>3</th>\n",
       "      <td>2019-06-30</td>\n",
       "      <td>$63,404</td>\n",
       "      <td>$2,625</td>\n",
       "      <td>63404.0</td>\n",
       "      <td>2625.0</td>\n",
       "      <td>4.140117</td>\n",
       "      <td>95.859883</td>\n",
       "    </tr>\n",
       "    <tr>\n",
       "      <th>4</th>\n",
       "      <td>2019-03-31</td>\n",
       "      <td>$59,700</td>\n",
       "      <td>$3,561</td>\n",
       "      <td>59700.0</td>\n",
       "      <td>3561.0</td>\n",
       "      <td>5.964824</td>\n",
       "      <td>94.035176</td>\n",
       "    </tr>\n",
       "    <tr>\n",
       "      <th>...</th>\n",
       "      <td>...</td>\n",
       "      <td>...</td>\n",
       "      <td>...</td>\n",
       "      <td>...</td>\n",
       "      <td>...</td>\n",
       "      <td>...</td>\n",
       "      <td>...</td>\n",
       "    </tr>\n",
       "    <tr>\n",
       "      <th>56</th>\n",
       "      <td>2006-03-31</td>\n",
       "      <td>$2,279</td>\n",
       "      <td>$51</td>\n",
       "      <td>2279.0</td>\n",
       "      <td>51.0</td>\n",
       "      <td>2.237824</td>\n",
       "      <td>97.762176</td>\n",
       "    </tr>\n",
       "    <tr>\n",
       "      <th>57</th>\n",
       "      <td>2005-12-31</td>\n",
       "      <td>$2,977</td>\n",
       "      <td>$199</td>\n",
       "      <td>2977.0</td>\n",
       "      <td>199.0</td>\n",
       "      <td>6.684582</td>\n",
       "      <td>93.315418</td>\n",
       "    </tr>\n",
       "    <tr>\n",
       "      <th>58</th>\n",
       "      <td>2005-09-30</td>\n",
       "      <td>$1,858</td>\n",
       "      <td>$30</td>\n",
       "      <td>1858.0</td>\n",
       "      <td>30.0</td>\n",
       "      <td>1.614639</td>\n",
       "      <td>98.385361</td>\n",
       "    </tr>\n",
       "    <tr>\n",
       "      <th>59</th>\n",
       "      <td>2005-06-30</td>\n",
       "      <td>$1,753</td>\n",
       "      <td>$52</td>\n",
       "      <td>1753.0</td>\n",
       "      <td>52.0</td>\n",
       "      <td>2.966343</td>\n",
       "      <td>97.033657</td>\n",
       "    </tr>\n",
       "    <tr>\n",
       "      <th>60</th>\n",
       "      <td>2005-03-31</td>\n",
       "      <td>$1,902</td>\n",
       "      <td>$78</td>\n",
       "      <td>1902.0</td>\n",
       "      <td>78.0</td>\n",
       "      <td>4.100946</td>\n",
       "      <td>95.899054</td>\n",
       "    </tr>\n",
       "  </tbody>\n",
       "</table>\n",
       "<p>61 rows × 7 columns</p>\n",
       "</div>"
      ],
      "text/plain": [
       "      Quarter Revenue (US $M) Net Income (US $M)  revenue  net_income  \\\n",
       "0  2020-03-31         $75,452             $2,535  75452.0      2535.0   \n",
       "1  2019-12-31         $87,437             $3,268  87437.0      3268.0   \n",
       "2  2019-09-30         $69,981             $2,134  69981.0      2134.0   \n",
       "3  2019-06-30         $63,404             $2,625  63404.0      2625.0   \n",
       "4  2019-03-31         $59,700             $3,561  59700.0      3561.0   \n",
       "..        ...             ...                ...      ...         ...   \n",
       "56 2006-03-31          $2,279                $51   2279.0        51.0   \n",
       "57 2005-12-31          $2,977               $199   2977.0       199.0   \n",
       "58 2005-09-30          $1,858                $30   1858.0        30.0   \n",
       "59 2005-06-30          $1,753                $52   1753.0        52.0   \n",
       "60 2005-03-31          $1,902                $78   1902.0        78.0   \n",
       "\n",
       "    net_income_rate  revenue_rate  \n",
       "0          3.359752     96.640248  \n",
       "1          3.737548     96.262452  \n",
       "2          3.049399     96.950601  \n",
       "3          4.140117     95.859883  \n",
       "4          5.964824     94.035176  \n",
       "..              ...           ...  \n",
       "56         2.237824     97.762176  \n",
       "57         6.684582     93.315418  \n",
       "58         1.614639     98.385361  \n",
       "59         2.966343     97.033657  \n",
       "60         4.100946     95.899054  \n",
       "\n",
       "[61 rows x 7 columns]"
      ]
     },
     "execution_count": 50,
     "metadata": {},
     "output_type": "execute_result"
    }
   ],
   "source": [
    "df"
   ]
  },
  {
   "cell_type": "code",
   "execution_count": 61,
   "metadata": {},
   "outputs": [
    {
     "data": {
      "text/plain": [
       "<BarContainer object of 61 artists>"
      ]
     },
     "execution_count": 61,
     "metadata": {},
     "output_type": "execute_result"
    },
    {
     "data": {
      "image/png": "[encoded data removed]",
      "text/plain": [
       "<Figure size 432x288 with 1 Axes>"
      ]
     },
     "metadata": {
      "needs_background": "light"
     },
     "output_type": "display_data"
    }
   ],
   "source": [
    "\n",
    "plt.bar(df['Quarter'], df['revenue_rate'])\n",
    "plt.bar(df['Quarter'], df['net_income_rate'], bottom=df['revenue_rate'])\n",
    "# plt.show()\n"
   ]
  },
  {
   "cell_type": "code",
   "execution_count": 56,
   "metadata": {},
   "outputs": [
    {
     "data": {
      "text/plain": [
       "<BarContainer object of 1 artists>"
      ]
     },
     "execution_count": 56,
     "metadata": {},
     "output_type": "execute_result"
    },
    {
     "data": {
      "image/png": "[encoded data removed]",
      "text/plain": [
       "<Figure size 432x288 with 1 Axes>"
      ]
     },
     "metadata": {
      "needs_background": "light"
     },
     "output_type": "display_data"
    }
   ],
   "source": [
    "plt.bar([1], [2])"
   ]
  },
  {
   "cell_type": "code",
   "execution_count": null,
   "metadata": {},
   "outputs": [],
   "source": []
  }
 ],
 "metadata": {
  "kernelspec": {
   "display_name": "Python 3",
   "language": "python",
   "name": "python3"
  },
  "language_info": {
   "codemirror_mode": {
    "name": "ipython",
    "version": 3
   },
   "file_extension": ".py",
   "mimetype": "text/x-python",
   "name": "python",
   "nbconvert_exporter": "python",
   "pygments_lexer": "ipython3",
   "version": "3.7.6"
  }
 },
 "nbformat": 4,
 "nbformat_minor": 4
}
